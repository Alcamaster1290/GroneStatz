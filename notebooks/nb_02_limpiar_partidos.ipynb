{
 "cells": [
  {
   "cell_type": "code",
   "execution_count": 1,
   "id": "c2b57a1c-156c-4b53-87a1-e96a8ed2435e",
   "metadata": {},
   "outputs": [],
   "source": [
    "import pandas as pd\n",
    "import os"
   ]
  },
  {
   "cell_type": "code",
   "execution_count": 2,
   "id": "9c34ad86-82fa-4e81-a4d7-d27362114b43",
   "metadata": {},
   "outputs": [
    {
     "name": "stdout",
     "output_type": "stream",
     "text": [
      "Archivo limpio guardado como 'Partidos_Liga 1 Peru_2025_limpio.xlsx'\n"
     ]
    }
   ],
   "source": [
    "# Ruta del archivo\n",
    "file_path = \"Partidos_Liga 1 Peru_2025.xlsx\"\n",
    "\n",
    "# Leer el archivo Excel\n",
    "df = pd.read_excel(file_path)\n",
    "\n",
    "# Convertir a numérico forzando errores a NaN\n",
    "df[\"home_score\"] = pd.to_numeric(df[\"home_score\"], errors=\"coerce\")\n",
    "df[\"away_score\"] = pd.to_numeric(df[\"away_score\"], errors=\"coerce\")\n",
    "\n",
    "# Eliminar filas donde home_score o away_score no sean numéricos\n",
    "df_clean = df.dropna(subset=[\"home_score\", \"away_score\"])\n",
    "\n",
    "# Guardar el resultado limpio en un nuevo Excel\n",
    "df_clean.to_excel(\"Partidos_Liga 1 Peru_2025_limpio.xlsx\", index=False)\n",
    "\n",
    "print(\"Archivo limpio guardado como 'Partidos_Liga 1 Peru_2025_limpio.xlsx'\")\n"
   ]
  },
  {
   "cell_type": "code",
   "execution_count": 3,
   "id": "ba3de8bd-32c4-4602-bbd4-17fbcf71551a",
   "metadata": {},
   "outputs": [],
   "source": [
    "import ScraperFC as sfc\n",
    "from pathlib import Path\n",
    "import glob, traceback\n",
    "from IPython.display import FileLink\n",
    "\n",
    "sofascore = sfc.Sofascore()\n"
   ]
  },
  {
   "cell_type": "code",
   "execution_count": 4,
   "id": "07239755-2de9-4a03-9b4c-ffb7bbd856dd",
   "metadata": {},
   "outputs": [],
   "source": [
    "def rename_duplicate_columns(df: pd.DataFrame) -> pd.DataFrame:\n",
    "    cols = pd.Series(df.columns, dtype=\"object\")\n",
    "    for name in cols[cols.duplicated()].unique():\n",
    "        idxs = cols[cols == name].index.tolist()\n",
    "        for k, i in enumerate(idxs):\n",
    "            if k: \n",
    "                cols.iloc[i] = f\"{name}_{k}\"\n",
    "    df.columns = cols\n",
    "    return df\n"
   ]
  },
  {
   "cell_type": "code",
   "execution_count": 5,
   "id": "ac6f05f9-95ab-4285-b94f-8fe5c5319687",
   "metadata": {},
   "outputs": [
    {
     "name": "stdout",
     "output_type": "stream",
     "text": [
      "Usando archivo: Partidos_Liga 1 Peru_2024_limpio.xlsx\n"
     ]
    }
   ],
   "source": [
    "input_candidates = [\n",
    "    \"Partidos_Liga 1 Peru_2025_limpio.xlsx\",\n",
    "]\n",
    "paths = []\n",
    "for pat in input_candidates:\n",
    "    paths.extend(glob.glob(pat))\n",
    "\n",
    "if not paths:\n",
    "    raise FileNotFoundError(\"No se encontró 'Datos_totales_*.xlsx' (prueba poner la ruta exacta).\")\n",
    "\n",
    "input_file = sorted(set(paths))[-1]\n",
    "print(\"Usando archivo:\", input_file)\n",
    "\n",
    "df_matches = pd.read_excel(input_file)\n",
    "\n",
    "if not ((\"match_url\" in df_matches.columns) or (\"match_id\" in df_matches.columns)):\n",
    "    raise KeyError(\"El Excel debe tener 'match_url' o 'match_id'.\")\n"
   ]
  },
  {
   "cell_type": "code",
   "execution_count": 6,
   "id": "edad8e50-15f4-4c80-b27e-1430e769f7e6",
   "metadata": {},
   "outputs": [],
   "source": [
    "liga = globals().get('liga', 'Liga 1 Peru')\n",
    "year = globals().get('year', '2024')\n",
    "\n",
    "out_dir = Path(\"matches_details\")\n",
    "out_dir.mkdir(parents=True, exist_ok=True)\n",
    "\n",
    "logs = []\n",
    "total = len(df_matches)\n"
   ]
  },
  {
   "cell_type": "code",
   "execution_count": null,
   "id": "fb97b5fe-809e-4d68-a25f-fd37a39d75eb",
   "metadata": {},
   "outputs": [
    {
     "name": "stdout",
     "output_type": "stream",
     "text": [
      "Running\n",
      "[1/306] ✅ Partido 12831491 procesado y guardado.\n",
      "[2/306] ✅ Partido 12831479 procesado y guardado.\n",
      "[3/306] ✅ Partido 12831475 procesado y guardado.\n"
     ]
    },
    {
     "name": "stderr",
     "output_type": "stream",
     "text": [
      "c:\\Users\\Alvaro\\Proyectos\\Proyecto Gronestats\\GroneStatz\\venv\\Lib\\site-packages\\ScraperFC\\sofascore.py:370: UserWarning: Encountered 404: Not Found from https://api.sofascore.com/api/v1/event/12831489/graph. Returning empty dataframe.\n",
      "  warnings.warn(\n"
     ]
    },
    {
     "name": "stdout",
     "output_type": "stream",
     "text": [
      "[4/306] ✅ Partido 12831489 procesado y guardado.\n",
      "[5/306] ✅ Partido 12831496 procesado y guardado.\n"
     ]
    },
    {
     "name": "stderr",
     "output_type": "stream",
     "text": [
      "Traceback (most recent call last):\n",
      "  File \"c:\\Users\\Alvaro\\Proyectos\\Proyecto Gronestats\\GroneStatz\\venv\\Lib\\site-packages\\botasaurus\\browser_decorator.py\", line 201, in run_task\n",
      "    result = func(driver, data)\n",
      "             ^^^^^^^^^^^^^^^^^^\n",
      "  File \"c:\\Users\\Alvaro\\Proyectos\\Proyecto Gronestats\\GroneStatz\\venv\\Lib\\site-packages\\ScraperFC\\utils\\botasaurus_getters.py\", line 43, in botasaurus_browser_get_json\n",
      "    result = json.loads(page_source)\n",
      "             ^^^^^^^^^^^^^^^^^^^^^^^\n",
      "  File \"C:\\Users\\Alvaro\\AppData\\Local\\Programs\\Python\\Python311\\Lib\\json\\__init__.py\", line 346, in loads\n",
      "    return _default_decoder.decode(s)\n",
      "           ^^^^^^^^^^^^^^^^^^^^^^^^^^\n",
      "  File \"C:\\Users\\Alvaro\\AppData\\Local\\Programs\\Python\\Python311\\Lib\\json\\decoder.py\", line 337, in decode\n",
      "    obj, end = self.raw_decode(s, idx=_w(s, 0).end())\n",
      "               ^^^^^^^^^^^^^^^^^^^^^^^^^^^^^^^^^^^^^^\n",
      "  File \"C:\\Users\\Alvaro\\AppData\\Local\\Programs\\Python\\Python311\\Lib\\json\\decoder.py\", line 355, in raw_decode\n",
      "    raise JSONDecodeError(\"Expecting value\", s, err.value) from None\n",
      "json.decoder.JSONDecodeError: Expecting value: line 1 column 1 (char 0)\n"
     ]
    },
    {
     "name": "stdout",
     "output_type": "stream",
     "text": [
      "Task failed for input: https://api.sofascore.com/api/v1/event/12831493/player/1086295/heatmap\n"
     ]
    }
   ],
   "source": [
    "# ---- SCRAPING POR PARTIDO ----\n",
    "for i, row in df_matches.iterrows():\n",
    "    match_ref = row.get(\"match_url\") or row.get(\"match_id\")\n",
    "    if pd.isna(match_ref):\n",
    "        logs.append((i, None, \"ERROR\", \"Falta match_url y match_id\"))\n",
    "        print(f\"[{i+1}/{total}] ❌ Fila sin identificador.\")\n",
    "        continue\n",
    "\n",
    "    # Normalizar match_id\n",
    "    match_id = str(match_ref).split(\"#id:\")[-1] if isinstance(match_ref, str) and \"#id:\" in str(match_ref) else str(match_ref)\n",
    "\n",
    "    try:\n",
    "        # ---------- llamadas scrape_* ----------\n",
    "        try:\n",
    "            team_stats_df = sofascore.scrape_team_match_stats(match_ref)\n",
    "        except Exception:\n",
    "            team_stats_df = pd.DataFrame()\n",
    "\n",
    "        try:\n",
    "            player_stats_df = sofascore.scrape_player_match_stats(match_ref)\n",
    "        except Exception:\n",
    "            player_stats_df = pd.DataFrame()\n",
    "\n",
    "        try:\n",
    "            avg_positions_df = sofascore.scrape_player_average_positions(match_ref)\n",
    "        except Exception:\n",
    "            avg_positions_df = pd.DataFrame()\n",
    "\n",
    "        try:\n",
    "            shotmap_df = sofascore.scrape_match_shots(match_ref)\n",
    "        except Exception:\n",
    "            shotmap_df = pd.DataFrame()\n",
    "\n",
    "        try:\n",
    "            momentum_df = sofascore.scrape_match_momentum(match_ref)\n",
    "        except Exception:\n",
    "            momentum_df = pd.DataFrame()\n",
    "\n",
    "        # ---- Heatmaps (usando match_id) ----\n",
    "        heatmaps_df = pd.DataFrame(columns=[\"player\", \"player_id\", \"heatmap\"])\n",
    "        try:\n",
    "            hm_dict = sofascore.scrape_heatmaps(match_id)\n",
    "            heatmaps_list = []\n",
    "            for pname, info in hm_dict.items():\n",
    "                if isinstance(info, dict) and info.get(\"heatmap\"):\n",
    "                    heatmaps_list.append({\n",
    "                        \"player\": pname,\n",
    "                        \"player_id\": info.get(\"id\"),\n",
    "                        \"heatmap\": info.get(\"heatmap\")\n",
    "                    })\n",
    "            if heatmaps_list:\n",
    "                heatmaps_df = rename_duplicate_columns(pd.DataFrame(heatmaps_list))\n",
    "        except Exception:\n",
    "            pass  # si falla heatmaps, simplemente se queda vacío\n",
    "\n",
    "        # ---- Renombrar duplicados ----\n",
    "        for df_ in (team_stats_df, player_stats_df, avg_positions_df, shotmap_df, momentum_df):\n",
    "            if isinstance(df_, pd.DataFrame) and not df_.empty:\n",
    "                rename_duplicate_columns(df_)\n",
    "\n",
    "        # ---- Guardar por partido ----\n",
    "        out_xlsx = out_dir / f\"Sofascore_{match_id}.xlsx\"\n",
    "        with pd.ExcelWriter(out_xlsx, engine=\"openpyxl\") as w:\n",
    "            team_stats_df.to_excel(w, sheet_name=\"Team Stats\", index=False)\n",
    "            player_stats_df.to_excel(w, sheet_name=\"Player Stats\", index=False)\n",
    "            avg_positions_df.to_excel(w, sheet_name=\"Average Positions\", index=False)\n",
    "            shotmap_df.to_excel(w, sheet_name=\"Shotmap\", index=False)\n",
    "            momentum_df.to_excel(w, sheet_name=\"Match Momentum\", index=False)\n",
    "            heatmaps_df.to_excel(w, sheet_name=\"Heatmaps\", index=False)\n",
    "\n",
    "        logs.append((match_id, str(out_xlsx), \"OK\", \"\"))\n",
    "        print(f\"[{i+1}/{total}] ✅ Partido {match_id} procesado y guardado.\")\n",
    "\n",
    "    except Exception as e:\n",
    "        logs.append((match_id, None, \"ERROR\", traceback.format_exc()))\n",
    "        print(f\"[{i+1}/{total}] ❌ Error en {match_id}: {e}\")\n"
   ]
  },
  {
   "cell_type": "code",
   "execution_count": 7,
   "id": "ed82668d-c98b-408b-88e1-28b8346d6602",
   "metadata": {},
   "outputs": [
    {
     "name": "stdout",
     "output_type": "stream",
     "text": [
      "✅ Carpeta 'matches_details' comprimida en matches_details.zip\n"
     ]
    },
    {
     "data": {
      "text/html": [
       "<a href='matches_details.zip' target='_blank'>matches_details.zip</a><br>"
      ],
      "text/plain": [
       "C:\\Users\\Alvaro\\Proyectos\\Proyecto Gronestats\\GroneStatz\\notebooks\\matches_details.zip"
      ]
     },
     "execution_count": 7,
     "metadata": {},
     "output_type": "execute_result"
    }
   ],
   "source": [
    "import zipfile\n",
    "from pathlib import Path\n",
    "from IPython.display import FileLink\n",
    "\n",
    "# Carpeta que quieres comprimir\n",
    "out_dir = Path(\"matches_details\")\n",
    "zip_filename = \"matches_details.zip\"\n",
    "\n",
    "# Crear archivo ZIP\n",
    "with zipfile.ZipFile(zip_filename, \"w\", zipfile.ZIP_DEFLATED) as zipf:\n",
    "    for root, dirs, files in os.walk(out_dir):\n",
    "        for file in files:\n",
    "            file_path = Path(root) / file\n",
    "            # Guardar con ruta relativa (sin el path absoluto de tu PC)\n",
    "            arcname = file_path.relative_to(out_dir.parent)\n",
    "            zipf.write(file_path, arcname)\n",
    "\n",
    "print(f\"✅ Carpeta '{out_dir}' comprimida en {zip_filename}\")\n",
    "\n",
    "# Generar enlace de descarga en Jupyter\n",
    "FileLink(zip_filename)"
   ]
  },
  {
   "cell_type": "code",
   "execution_count": null,
   "id": "168c0098-c6f4-497d-a257-979a54a59213",
   "metadata": {},
   "outputs": [],
   "source": []
  }
 ],
 "metadata": {
  "kernelspec": {
   "display_name": "venv",
   "language": "python",
   "name": "python3"
  },
  "language_info": {
   "codemirror_mode": {
    "name": "ipython",
    "version": 3
   },
   "file_extension": ".py",
   "mimetype": "text/x-python",
   "name": "python",
   "nbconvert_exporter": "python",
   "pygments_lexer": "ipython3",
   "version": "3.11.5"
  }
 },
 "nbformat": 4,
 "nbformat_minor": 5
}
