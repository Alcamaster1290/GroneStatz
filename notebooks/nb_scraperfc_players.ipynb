{
 "cells": [
  {
   "cell_type": "markdown",
   "id": "b7f8f511",
   "metadata": {},
   "source": [
    "*Cuaderno para extraer Jugadores ScraperFC - Sofascore*"
   ]
  },
  {
   "cell_type": "code",
   "execution_count": 3,
   "id": "b2208b43",
   "metadata": {},
   "outputs": [],
   "source": [
    "import pandas as pd\n",
    "import os"
   ]
  },
  {
   "cell_type": "code",
   "execution_count": 5,
   "id": "e9d5fb4a",
   "metadata": {},
   "outputs": [],
   "source": [
    "import ScraperFC as sfc"
   ]
  },
  {
   "cell_type": "code",
   "execution_count": 6,
   "id": "ea5af9aa",
   "metadata": {},
   "outputs": [],
   "source": [
    "sofascore = sfc.Sofascore()"
   ]
  },
  {
   "cell_type": "code",
   "execution_count": 7,
   "id": "bda8b72a",
   "metadata": {},
   "outputs": [],
   "source": [
    "columns_en = [\n",
    "            'goals', 'yellowCards', 'redCards', 'groundDuelsWon', 'groundDuelsWonPercentage',\n",
    "            'aerialDuelsWon', 'aerialDuelsWonPercentage', 'successfulDribbles',\n",
    "            'successfulDribblesPercentage', 'tackles', 'assists', 'accuratePassesPercentage',\n",
    "            'totalDuelsWon', 'totalDuelsWonPercentage', 'minutesPlayed', 'wasFouled', 'fouls',\n",
    "            'dispossessed', 'possesionLost', 'appearances', 'started', 'saves', 'cleanSheets',\n",
    "            'savedShotsFromInsideTheBox', 'savedShotsFromOutsideTheBox',\n",
    "            'goalsConcededInsideTheBox', 'goalsConcededOutsideTheBox', 'highClaims',\n",
    "            'successfulRunsOut', 'punches', 'runsOut', 'accurateFinalThirdPasses',\n",
    "            'bigChancesCreated', 'accuratePasses', 'keyPasses', 'accurateCrosses',\n",
    "            'accurateCrossesPercentage', 'accurateLongBalls', 'accurateLongBallsPercentage',\n",
    "            'interceptions', 'clearances', 'dribbledPast', 'bigChancesMissed', 'totalShots',\n",
    "            'shotsOnTarget', 'blockedShots', 'goalConversionPercentage', 'hitWoodwork', 'offsides',\n",
    "            'expectedGoals', 'errorLeadToGoal', 'errorLeadToShot', 'passToAssist'\n",
    "        ]"
   ]
  },
  {
   "cell_type": "code",
   "execution_count": 8,
   "id": "2d76049f",
   "metadata": {},
   "outputs": [
    {
     "name": "stdout",
     "output_type": "stream",
     "text": [
      "dict_keys(['Champions League', 'Europa League', 'Europa Conference League', 'EPL', 'La Liga', 'Bundesliga', 'Serie A', 'Ligue 1', 'Turkish Super Lig', 'Argentina Liga Profesional', 'Argentina Copa de la Liga Profesional', 'Liga 1 Peru', 'Copa Libertadores', 'MLS', 'USL Championship', 'USL1', 'USL2', 'Saudi Pro League', 'World Cup', 'Euros', 'Gold Cup', \"Women's World Cup\"])\n"
     ]
    }
   ],
   "source": [
    "from ScraperFC.sofascore import comps\n",
    "print(comps.keys())"
   ]
  },
  {
   "cell_type": "code",
   "execution_count": 9,
   "id": "4b28a995",
   "metadata": {},
   "outputs": [
    {
     "name": "stdout",
     "output_type": "stream",
     "text": [
      "Running\n",
      "{'seasons': [{'name': 'Liga 1 2025', 'year': '2025', 'editor': False, 'id': 70962}, {'name': 'Liga 1 2024', 'year': '2024', 'editor': False, 'id': 57741}, {'name': 'Primera Division 2023', 'year': '2023', 'editor': False, 'seasonCoverageInfo': {}, 'id': 48078}, {'name': 'Primera Division 2022', 'year': '2022', 'editor': False, 'id': 40118}, {'name': 'Primera Division 2021', 'year': '2021', 'editor': False, 'id': 35813}, {'name': 'Primera Division 2020', 'year': '2020', 'editor': False, 'id': 27096}, {'name': 'Primera Division 2019', 'year': '2019', 'editor': False, 'id': 22349}, {'name': 'Primera Division 2018', 'year': '2018', 'editor': False, 'id': 16007}, {'name': 'Primera Division 2017', 'year': '2017', 'editor': False, 'id': 12872}, {'name': 'Primera Division 2016', 'year': '2016', 'editor': False, 'id': 11258}, {'name': 'Primera Division 2015', 'year': '2015', 'editor': False, 'id': 9748}, {'name': 'Primera Division 2014', 'year': '2014', 'editor': False, 'id': 7892}, {'name': 'Primera Division 2013', 'year': '2013', 'editor': False, 'id': 5850}, {'name': 'Primera Division 2012', 'year': '2012', 'editor': False, 'id': 4358}, {'name': 'Primera Division 2011', 'year': '2011', 'editor': False, 'id': 3261}, {'name': 'Primera Division 2010', 'year': '2010', 'editor': False, 'id': 2600}, {'name': 'Primera Division 2009', 'year': '2009', 'editor': False, 'id': 1998}, {'name': 'Primera Division 2008', 'year': '2008', 'editor': False, 'id': 1269}]}\n"
     ]
    }
   ],
   "source": [
    "from ScraperFC.sofascore import comps, botasaurus_browser_get_json\n",
    "\n",
    "league_id = comps['Liga 1 Peru']\n",
    "url = f'https://api.sofascore.com/api/v1/unique-tournament/{league_id}/seasons/'\n",
    "response = botasaurus_browser_get_json(url)\n",
    "print(response)\n"
   ]
  },
  {
   "cell_type": "markdown",
   "id": "c15809e0",
   "metadata": {},
   "source": [
    "Liga 1 Peru"
   ]
  },
  {
   "cell_type": "code",
   "execution_count": 10,
   "id": "e544fb1f",
   "metadata": {},
   "outputs": [],
   "source": [
    "year = \"2025\"\n",
    "liga = 'Liga 1 Peru'\n",
    "#Datos Liga 1\n",
    "dfLiga1_2025 = sofascore.scrape_player_league_stats(year=year, league=liga)"
   ]
  },
  {
   "cell_type": "code",
   "execution_count": 11,
   "id": "cd3ab6ae",
   "metadata": {},
   "outputs": [
    {
     "name": "stdout",
     "output_type": "stream",
     "text": [
      "Columnas eliminadas: ['expectedGoals']\n",
      "Columnas convertidas a float: ['goals', 'yellowCards', 'redCards', 'groundDuelsWon', 'groundDuelsWonPercentage', 'aerialDuelsWon', 'aerialDuelsWonPercentage', 'successfulDribbles', 'successfulDribblesPercentage', 'tackles', 'assists', 'accuratePassesPercentage', 'totalDuelsWon', 'totalDuelsWonPercentage', 'minutesPlayed', 'wasFouled', 'fouls', 'dispossessed', 'appearances', 'saves', 'savedShotsFromInsideTheBox', 'savedShotsFromOutsideTheBox', 'goalsConcededInsideTheBox', 'goalsConcededOutsideTheBox', 'highClaims', 'successfulRunsOut', 'punches', 'runsOut', 'accurateFinalThirdPasses', 'bigChancesCreated', 'accuratePasses', 'keyPasses', 'accurateCrosses', 'accurateCrossesPercentage', 'accurateLongBalls', 'accurateLongBallsPercentage', 'interceptions', 'clearances', 'dribbledPast', 'bigChancesMissed', 'totalShots', 'shotsOnTarget', 'blockedShots', 'goalConversionPercentage', 'hitWoodwork', 'offsides', 'errorLeadToGoal', 'errorLeadToShot', 'passToAssist']\n"
     ]
    }
   ],
   "source": [
    "# Limpieza y preprocesamiento general\n",
    "dfLiga1_2025 = dfLiga1_2025.sort_values(by='team', ascending=True)\n",
    "\n",
    "# Reordenar columnas: player primero, luego team\n",
    "team_index = dfLiga1_2025.columns.get_loc('team')\n",
    "dfLiga1_2025.insert(0, 'team', dfLiga1_2025.pop('team'))\n",
    "player_index = dfLiga1_2025.columns.get_loc('player')\n",
    "dfLiga1_2025.insert(0, 'player', dfLiga1_2025.pop('player'))\n",
    "\n",
    "# Eliminar columnas con todos los valores NaN o todos ceros\n",
    "columns_to_drop = dfLiga1_2025.columns[\n",
    "    dfLiga1_2025.isna().all() | (dfLiga1_2025 == 0).all()\n",
    "]\n",
    "dfLiga1_2025 = dfLiga1_2025.drop(columns=columns_to_drop)\n",
    "\n",
    "# Filtrar solo columnas que realmente existen de columns_en\n",
    "columns_existentes = [col for col in columns_en if col in dfLiga1_2025.columns]\n",
    "\n",
    "# Convertir a float solo las columnas existentes\n",
    "dfLiga1_2025[columns_existentes] = dfLiga1_2025[columns_existentes].astype(float)\n",
    "\n",
    "# Reiniciar índice después de limpiar\n",
    "dfLiga1_2025 = dfLiga1_2025.reset_index(drop=True)\n",
    "\n",
    "# Mostrar columnas eliminadas y convertidas\n",
    "print(\"Columnas eliminadas:\", list(columns_to_drop))\n",
    "print(\"Columnas convertidas a float:\", columns_existentes)\n",
    "\n"
   ]
  },
  {
   "cell_type": "code",
   "execution_count": 12,
   "id": "972b4ef4",
   "metadata": {},
   "outputs": [
    {
     "data": {
      "text/html": [
       "<div>\n",
       "<style scoped>\n",
       "    .dataframe tbody tr th:only-of-type {\n",
       "        vertical-align: middle;\n",
       "    }\n",
       "\n",
       "    .dataframe tbody tr th {\n",
       "        vertical-align: top;\n",
       "    }\n",
       "\n",
       "    .dataframe thead th {\n",
       "        text-align: right;\n",
       "    }\n",
       "</style>\n",
       "<table border=\"1\" class=\"dataframe\">\n",
       "  <thead>\n",
       "    <tr style=\"text-align: right;\">\n",
       "      <th></th>\n",
       "      <th>player</th>\n",
       "      <th>team</th>\n",
       "      <th>goals</th>\n",
       "      <th>yellowCards</th>\n",
       "      <th>redCards</th>\n",
       "      <th>groundDuelsWon</th>\n",
       "      <th>groundDuelsWonPercentage</th>\n",
       "      <th>aerialDuelsWon</th>\n",
       "      <th>aerialDuelsWonPercentage</th>\n",
       "      <th>successfulDribbles</th>\n",
       "      <th>...</th>\n",
       "      <th>shotsOnTarget</th>\n",
       "      <th>blockedShots</th>\n",
       "      <th>goalConversionPercentage</th>\n",
       "      <th>hitWoodwork</th>\n",
       "      <th>offsides</th>\n",
       "      <th>errorLeadToGoal</th>\n",
       "      <th>errorLeadToShot</th>\n",
       "      <th>passToAssist</th>\n",
       "      <th>player id</th>\n",
       "      <th>team id</th>\n",
       "    </tr>\n",
       "  </thead>\n",
       "  <tbody>\n",
       "    <tr>\n",
       "      <th>0</th>\n",
       "      <td>Christian Flores</td>\n",
       "      <td>ADC Juan Pablo II</td>\n",
       "      <td>0.0</td>\n",
       "      <td>4.0</td>\n",
       "      <td>1.0</td>\n",
       "      <td>94.0</td>\n",
       "      <td>55.29</td>\n",
       "      <td>24.0</td>\n",
       "      <td>39.34</td>\n",
       "      <td>15.0</td>\n",
       "      <td>...</td>\n",
       "      <td>1.0</td>\n",
       "      <td>0.0</td>\n",
       "      <td>0.0</td>\n",
       "      <td>0.0</td>\n",
       "      <td>0.0</td>\n",
       "      <td>0.0</td>\n",
       "      <td>1.0</td>\n",
       "      <td>0.0</td>\n",
       "      <td>1107871</td>\n",
       "      <td>511206</td>\n",
       "    </tr>\n",
       "    <tr>\n",
       "      <th>1</th>\n",
       "      <td>Flavio Fernández</td>\n",
       "      <td>ADC Juan Pablo II</td>\n",
       "      <td>0.0</td>\n",
       "      <td>1.0</td>\n",
       "      <td>0.0</td>\n",
       "      <td>11.0</td>\n",
       "      <td>61.11</td>\n",
       "      <td>3.0</td>\n",
       "      <td>30.00</td>\n",
       "      <td>3.0</td>\n",
       "      <td>...</td>\n",
       "      <td>0.0</td>\n",
       "      <td>0.0</td>\n",
       "      <td>0.0</td>\n",
       "      <td>0.0</td>\n",
       "      <td>0.0</td>\n",
       "      <td>0.0</td>\n",
       "      <td>0.0</td>\n",
       "      <td>0.0</td>\n",
       "      <td>1090708</td>\n",
       "      <td>511206</td>\n",
       "    </tr>\n",
       "    <tr>\n",
       "      <th>2</th>\n",
       "      <td>Matias Vega</td>\n",
       "      <td>ADC Juan Pablo II</td>\n",
       "      <td>0.0</td>\n",
       "      <td>0.0</td>\n",
       "      <td>0.0</td>\n",
       "      <td>4.0</td>\n",
       "      <td>66.67</td>\n",
       "      <td>6.0</td>\n",
       "      <td>85.71</td>\n",
       "      <td>0.0</td>\n",
       "      <td>...</td>\n",
       "      <td>0.0</td>\n",
       "      <td>0.0</td>\n",
       "      <td>0.0</td>\n",
       "      <td>1.0</td>\n",
       "      <td>0.0</td>\n",
       "      <td>3.0</td>\n",
       "      <td>2.0</td>\n",
       "      <td>0.0</td>\n",
       "      <td>789265</td>\n",
       "      <td>511206</td>\n",
       "    </tr>\n",
       "    <tr>\n",
       "      <th>3</th>\n",
       "      <td>Cristian Ramírez</td>\n",
       "      <td>ADC Juan Pablo II</td>\n",
       "      <td>0.0</td>\n",
       "      <td>0.0</td>\n",
       "      <td>0.0</td>\n",
       "      <td>14.0</td>\n",
       "      <td>51.85</td>\n",
       "      <td>6.0</td>\n",
       "      <td>50.00</td>\n",
       "      <td>3.0</td>\n",
       "      <td>...</td>\n",
       "      <td>0.0</td>\n",
       "      <td>0.0</td>\n",
       "      <td>0.0</td>\n",
       "      <td>0.0</td>\n",
       "      <td>0.0</td>\n",
       "      <td>0.0</td>\n",
       "      <td>0.0</td>\n",
       "      <td>0.0</td>\n",
       "      <td>860001</td>\n",
       "      <td>511206</td>\n",
       "    </tr>\n",
       "    <tr>\n",
       "      <th>4</th>\n",
       "      <td>Josué Canova</td>\n",
       "      <td>ADC Juan Pablo II</td>\n",
       "      <td>0.0</td>\n",
       "      <td>1.0</td>\n",
       "      <td>0.0</td>\n",
       "      <td>18.0</td>\n",
       "      <td>56.25</td>\n",
       "      <td>6.0</td>\n",
       "      <td>46.15</td>\n",
       "      <td>4.0</td>\n",
       "      <td>...</td>\n",
       "      <td>0.0</td>\n",
       "      <td>1.0</td>\n",
       "      <td>0.0</td>\n",
       "      <td>0.0</td>\n",
       "      <td>0.0</td>\n",
       "      <td>0.0</td>\n",
       "      <td>0.0</td>\n",
       "      <td>0.0</td>\n",
       "      <td>2025044</td>\n",
       "      <td>511206</td>\n",
       "    </tr>\n",
       "  </tbody>\n",
       "</table>\n",
       "<p>5 rows × 53 columns</p>\n",
       "</div>"
      ],
      "text/plain": [
       "             player               team  goals  yellowCards  redCards  \\\n",
       "0  Christian Flores  ADC Juan Pablo II    0.0          4.0       1.0   \n",
       "1  Flavio Fernández  ADC Juan Pablo II    0.0          1.0       0.0   \n",
       "2       Matias Vega  ADC Juan Pablo II    0.0          0.0       0.0   \n",
       "3  Cristian Ramírez  ADC Juan Pablo II    0.0          0.0       0.0   \n",
       "4      Josué Canova  ADC Juan Pablo II    0.0          1.0       0.0   \n",
       "\n",
       "   groundDuelsWon  groundDuelsWonPercentage  aerialDuelsWon  \\\n",
       "0            94.0                     55.29            24.0   \n",
       "1            11.0                     61.11             3.0   \n",
       "2             4.0                     66.67             6.0   \n",
       "3            14.0                     51.85             6.0   \n",
       "4            18.0                     56.25             6.0   \n",
       "\n",
       "   aerialDuelsWonPercentage  successfulDribbles  ...  shotsOnTarget  \\\n",
       "0                     39.34                15.0  ...            1.0   \n",
       "1                     30.00                 3.0  ...            0.0   \n",
       "2                     85.71                 0.0  ...            0.0   \n",
       "3                     50.00                 3.0  ...            0.0   \n",
       "4                     46.15                 4.0  ...            0.0   \n",
       "\n",
       "   blockedShots  goalConversionPercentage  hitWoodwork  offsides  \\\n",
       "0           0.0                       0.0          0.0       0.0   \n",
       "1           0.0                       0.0          0.0       0.0   \n",
       "2           0.0                       0.0          1.0       0.0   \n",
       "3           0.0                       0.0          0.0       0.0   \n",
       "4           1.0                       0.0          0.0       0.0   \n",
       "\n",
       "   errorLeadToGoal  errorLeadToShot  passToAssist  player id  team id  \n",
       "0              0.0              1.0           0.0    1107871   511206  \n",
       "1              0.0              0.0           0.0    1090708   511206  \n",
       "2              3.0              2.0           0.0     789265   511206  \n",
       "3              0.0              0.0           0.0     860001   511206  \n",
       "4              0.0              0.0           0.0    2025044   511206  \n",
       "\n",
       "[5 rows x 53 columns]"
      ]
     },
     "execution_count": 12,
     "metadata": {},
     "output_type": "execute_result"
    }
   ],
   "source": [
    "dfLiga1_2025.head()"
   ]
  },
  {
   "cell_type": "code",
   "execution_count": 13,
   "id": "42dfffa2-c63d-4cd8-a862-fe1b823800db",
   "metadata": {},
   "outputs": [
    {
     "data": {
      "text/html": [
       "<a href='Jugadores_Datos_totales_Liga 1 Peru_2025.xlsx' target='_blank'>Jugadores_Datos_totales_Liga 1 Peru_2025.xlsx</a><br>"
      ],
      "text/plain": [
       "C:\\Users\\Alvaro\\Proyectos\\Proyecto Gronestats\\GroneStatz\\notebooks\\Jugadores_Datos_totales_Liga 1 Peru_2025.xlsx"
      ]
     },
     "execution_count": 13,
     "metadata": {},
     "output_type": "execute_result"
    }
   ],
   "source": [
    "# Guardar Excel en la carpeta actual\n",
    "nombre_archivo = f\"Jugadores_Datos_totales_{liga}_{year}.xlsx\"\n",
    "dfLiga1_2025.to_excel(nombre_archivo, index=False, engine='openpyxl')\n",
    "\n",
    "# Generar enlace de descarga en Jupyter\n",
    "from IPython.display import FileLink\n",
    "FileLink(nombre_archivo)"
   ]
  }
 ],
 "metadata": {
  "kernelspec": {
   "display_name": "Python 3 (ipykernel)",
   "language": "python",
   "name": "python3"
  },
  "language_info": {
   "codemirror_mode": {
    "name": "ipython",
    "version": 3
   },
   "file_extension": ".py",
   "mimetype": "text/x-python",
   "name": "python",
   "nbconvert_exporter": "python",
   "pygments_lexer": "ipython3",
   "version": "3.11.5"
  }
 },
 "nbformat": 4,
 "nbformat_minor": 5
}
